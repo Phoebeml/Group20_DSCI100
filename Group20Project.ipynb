{
 "cells": [
  {
   "cell_type": "markdown",
   "id": "608ca7e5-636d-4227-a677-eaa63495ece2",
   "metadata": {
    "tags": []
   },
   "source": [
    "Heart Disease in Cleveland\n",
    "=====\n",
    "**An analysis by Group 20 DSCI 100 007**\n",
    "\n",
    "Phoebe McNair-Luxon, Alexandre Beauchemin, Kumaravendhan Ravichandran, Evi Dorsch\n",
    "\n",
    "Data set source: https://archive.ics.uci.edu/ml/datasets/Heart+Disease"
   ]
  },
  {
   "cell_type": "code",
   "execution_count": null,
   "id": "d254d1bb-2784-4b7a-958e-df321cc03af5",
   "metadata": {},
   "outputs": [],
   "source": [
    "library(tidyverse)\n",
    "library(tidymodels)\n",
    "library(repr)\n",
    "library(gridExtra)\n",
    "library(readxl)\n",
    "set.seed(4200)\n",
    "install.packages(\"themis\")\n",
    "library(themis)"
   ]
  },
  {
   "cell_type": "markdown",
   "id": "3e988a7e-fd3e-4cf8-8863-a42dc880f0fe",
   "metadata": {},
   "source": [
    "Part 1: Preliminary Data Analysis\n",
    "=====\n",
    "Cell 1: Summary of the data set\n",
    "\n",
    "Cell 2: Visuization of the data set"
   ]
  },
  {
   "cell_type": "code",
   "execution_count": 72,
   "id": "f1392f86-5af2-4701-b1a1-19d5aaa25c5b",
   "metadata": {},
   "outputs": [
    {
     "name": "stderr",
     "output_type": "stream",
     "text": [
      "\u001b[1m\u001b[22mNew names:\n",
      "\u001b[36m•\u001b[39m `` -> `...1`\n",
      "\u001b[1m\u001b[22mNew names:\n",
      "\u001b[36m•\u001b[39m `` -> `...1`\n"
     ]
    },
    {
     "data": {
      "text/html": [
       "<table class=\"dataframe\">\n",
       "<caption>A tibble: 2 × 7</caption>\n",
       "<thead>\n",
       "\t<tr><th scope=col>...1</th><th scope=col>age</th><th scope=col>sex</th><th scope=col>trestbps</th><th scope=col>chol</th><th scope=col>fbs</th><th scope=col>oldpeak</th></tr>\n",
       "\t<tr><th scope=col>&lt;chr&gt;</th><th scope=col>&lt;dbl&gt;</th><th scope=col>&lt;dbl&gt;</th><th scope=col>&lt;dbl&gt;</th><th scope=col>&lt;dbl&gt;</th><th scope=col>&lt;dbl&gt;</th><th scope=col>&lt;dbl&gt;</th></tr>\n",
       "</thead>\n",
       "<tbody>\n",
       "\t<tr><td>Mean  </td><td>54.87805</td><td>0.6707317</td><td>133.2886</td><td>249.8333</td><td>0.1585366</td><td>1.054472</td></tr>\n",
       "\t<tr><td>Median</td><td>55.50000</td><td>1.0000000</td><td>130.0000</td><td>245.0000</td><td>0.0000000</td><td>0.800000</td></tr>\n",
       "</tbody>\n",
       "</table>\n"
      ],
      "text/latex": [
       "A tibble: 2 × 7\n",
       "\\begin{tabular}{lllllll}\n",
       " ...1 & age & sex & trestbps & chol & fbs & oldpeak\\\\\n",
       " <chr> & <dbl> & <dbl> & <dbl> & <dbl> & <dbl> & <dbl>\\\\\n",
       "\\hline\n",
       "\t Mean   & 54.87805 & 0.6707317 & 133.2886 & 249.8333 & 0.1585366 & 1.054472\\\\\n",
       "\t Median & 55.50000 & 1.0000000 & 130.0000 & 245.0000 & 0.0000000 & 0.800000\\\\\n",
       "\\end{tabular}\n"
      ],
      "text/markdown": [
       "\n",
       "A tibble: 2 × 7\n",
       "\n",
       "| ...1 &lt;chr&gt; | age &lt;dbl&gt; | sex &lt;dbl&gt; | trestbps &lt;dbl&gt; | chol &lt;dbl&gt; | fbs &lt;dbl&gt; | oldpeak &lt;dbl&gt; |\n",
       "|---|---|---|---|---|---|---|\n",
       "| Mean   | 54.87805 | 0.6707317 | 133.2886 | 249.8333 | 0.1585366 | 1.054472 |\n",
       "| Median | 55.50000 | 1.0000000 | 130.0000 | 245.0000 | 0.0000000 | 0.800000 |\n",
       "\n"
      ],
      "text/plain": [
       "  ...1   age      sex       trestbps chol     fbs       oldpeak \n",
       "1 Mean   54.87805 0.6707317 133.2886 249.8333 0.1585366 1.054472\n",
       "2 Median 55.50000 1.0000000 130.0000 245.0000 0.0000000 0.800000"
      ]
     },
     "metadata": {},
     "output_type": "display_data"
    },
    {
     "data": {
      "text/html": [
       "246"
      ],
      "text/latex": [
       "246"
      ],
      "text/markdown": [
       "246"
      ],
      "text/plain": [
       "[1] 246"
      ]
     },
     "metadata": {},
     "output_type": "display_data"
    }
   ],
   "source": [
    "# read in data \n",
    "Cl_heart_data <- read.table(\"https://archive.ics.uci.edu/ml/machine-learning-databases/heart-disease/processed.cleveland.data\", sep = \",\",\n",
    "                 col.names = c(\"age\", \"sex\", \"cp\", \"trestbps\", \"chol\", \"fbs\",  \"restecg\", \"thalach\", \"exang\", \"oldpeak\", \"slope\", \"ca\", \"thal\", \"num\"))\n",
    "#convert from a dataframe to a tibble\n",
    "Cl_heart_data <- as_tibble(Cl_heart_data)\n",
    "\n",
    "# convert num from from dbl to factor\n",
    "Cl_heart_data_2 <- Cl_heart_data |> \n",
    "    mutate(num=as_factor(num))\n",
    "\n",
    "# collapse factor levels returning positive disease diagnosis\n",
    "Cl_heart_data_2 <-  fct_collapse(Cl_heart_data_2$num,\n",
    "    \"No disease\" = \"0\",\n",
    "    \"Disease\" = c(\"1\", \"2\", \"3\", \"4\")) |>\n",
    "    bind_cols(Cl_heart_data_2)\n",
    "\n",
    "# rename column\n",
    "colnames(Cl_heart_data_2) <- c(\"disease_status\", \"age\", \"sex\", \"cp\", \"trestbps\", \"chol\", \"fbs\",  \"restecg\", \"thalach\", \"exang\", \"oldpeak\", \"slope\", \"ca\", \"thal\", \"num\")\n",
    "\n",
    "# select for columns \n",
    "clean_heart_data <- Cl_heart_data_2 |>\n",
    "    select(\"age\", \"sex\", \"trestbps\", \"chol\", \"fbs\", \"oldpeak\", \"disease_status\")\n",
    "\n",
    "# rename column\n",
    "colnames(clean_heart_data) <- c(\"age\", \"sex\", \"trestbps\", \"chol\", \"fbs\", \"oldpeak\", \"num\")\n",
    "\n",
    "# count number of observations for disease and no disease for use in next cell\n",
    "count_before_scaling <- count(clean_heart_data, num)\n",
    "\n",
    "# balance data\n",
    "ups_recipe <- recipe(num ~ ., data = clean_heart_data) |>\n",
    "  step_upsample(num, over_ratio = 1, skip = FALSE) |>\n",
    "  prep()\n",
    "\n",
    "clean_heart_data <- bake(ups_recipe, clean_heart_data)\n",
    "\n",
    "# count number of observations for disease and no disease for use in next cell\n",
    "count_after_scaling <- count(clean_heart_data, num)\n",
    "\n",
    "#splitting data into training and testing sets\n",
    "heart_data_split <-  initial_split(clean_heart_data, prop = 0.75, strata = num)\n",
    "heart_train <- training(heart_data_split)\n",
    "heart_test <- testing(heart_data_split)\n",
    "# head(heart_train)\n",
    "# head(heart_test)\n",
    "\n",
    "#create new data frame without num for calculating stats\n",
    "heart_train_1 <- heart_train |>\n",
    "    select(-num)\n",
    "\n",
    "# visualizing the data (only training data)\n",
    "names <- c(\"Mean\", \"Median\")\n",
    "mean_1 <- heart_train_1 |>\n",
    "    map_df(mean, na.rm = TRUE)\n",
    "median_1 <- heart_train_1 |>\n",
    "    map_df(median, na.rm = TRUE)\n",
    "tbl1 <- bind_rows(mean_1, median_1)\n",
    "exploratory_analysis <- bind_cols(names, tbl1)\n",
    "exploratory_analysis\n",
    "\n",
    "number_of_rows <- heart_train |>  \n",
    "    nrow()\n",
    "number_of_rows"
   ]
  },
  {
   "cell_type": "code",
   "execution_count": 76,
   "id": "bca9d620-ea2a-41e1-ae0b-fa52f8d0854b",
   "metadata": {},
   "outputs": [
    {
     "name": "stderr",
     "output_type": "stream",
     "text": [
      "\u001b[1m\u001b[22mNew names:\n",
      "\u001b[36m•\u001b[39m `num` -> `num...1`\n",
      "\u001b[36m•\u001b[39m `n` -> `n...2`\n",
      "\u001b[36m•\u001b[39m `num` -> `num...3`\n",
      "\u001b[36m•\u001b[39m `n` -> `n...4`\n"
     ]
    },
    {
     "data": {
      "text/html": [
       "<style>\n",
       ".list-inline {list-style: none; margin:0; padding: 0}\n",
       ".list-inline>li {display: inline-block}\n",
       ".list-inline>li:not(:last-child)::after {content: \"\\00b7\"; padding: 0 .5ex}\n",
       "</style>\n",
       "<ol class=list-inline><li>'Disease Status'</li><li>'Before Scaling'</li><li>'After Scaling'</li></ol>\n"
      ],
      "text/latex": [
       "\\begin{enumerate*}\n",
       "\\item 'Disease Status'\n",
       "\\item 'Before Scaling'\n",
       "\\item 'After Scaling'\n",
       "\\end{enumerate*}\n"
      ],
      "text/markdown": [
       "1. 'Disease Status'\n",
       "2. 'Before Scaling'\n",
       "3. 'After Scaling'\n",
       "\n",
       "\n"
      ],
      "text/plain": [
       "[1] \"Disease Status\" \"Before Scaling\" \"After Scaling\" "
      ]
     },
     "metadata": {},
     "output_type": "display_data"
    },
    {
     "data": {
      "text/html": [
       "<table class=\"dataframe\">\n",
       "<caption>A tibble: 2 × 3</caption>\n",
       "<thead>\n",
       "\t<tr><th scope=col>Disease Status</th><th scope=col>Before Scaling</th><th scope=col>After Scaling</th></tr>\n",
       "\t<tr><th scope=col>&lt;fct&gt;</th><th scope=col>&lt;int&gt;</th><th scope=col>&lt;int&gt;</th></tr>\n",
       "</thead>\n",
       "<tbody>\n",
       "\t<tr><td>No disease</td><td>164</td><td>164</td></tr>\n",
       "\t<tr><td>Disease   </td><td>139</td><td>164</td></tr>\n",
       "</tbody>\n",
       "</table>\n"
      ],
      "text/latex": [
       "A tibble: 2 × 3\n",
       "\\begin{tabular}{lll}\n",
       " Disease Status & Before Scaling & After Scaling\\\\\n",
       " <fct> & <int> & <int>\\\\\n",
       "\\hline\n",
       "\t No disease & 164 & 164\\\\\n",
       "\t Disease    & 139 & 164\\\\\n",
       "\\end{tabular}\n"
      ],
      "text/markdown": [
       "\n",
       "A tibble: 2 × 3\n",
       "\n",
       "| Disease Status &lt;fct&gt; | Before Scaling &lt;int&gt; | After Scaling &lt;int&gt; |\n",
       "|---|---|---|\n",
       "| No disease | 164 | 164 |\n",
       "| Disease    | 139 | 164 |\n",
       "\n"
      ],
      "text/plain": [
       "  Disease Status Before Scaling After Scaling\n",
       "1 No disease     164            164          \n",
       "2 Disease        139            164          "
      ]
     },
     "metadata": {},
     "output_type": "display_data"
    }
   ],
   "source": [
    "#bind the two counts and label data with human readable names\n",
    "count_data <- bind_cols(count_before_scaling, count_after_scaling) |>\n",
    "    select(-num...3)\n",
    "\n",
    "titles<- c(\"Disease Status\", \"Before Scaling\", \"After Scaling\")\n",
    "titles\n",
    "\n",
    "colnames(count_data) <- titles\n",
    "\n",
    "count_data"
   ]
  },
  {
   "cell_type": "raw",
   "id": "c2af721c-b4ff-48e4-b393-1605a66a2538",
   "metadata": {},
   "source": [
    "options(repr.plot.height = 15, repr.plot.width = 15)\n",
    "\n",
    "# Visulize data distribution in a graph\n",
    "age_distribution <- heart_train |>\n",
    "    ggplot() +\n",
    "    geom_histogram(bins = 6, aes(x=age)) +\n",
    "    labs(x=\"Age (years)\",y = \"Number of Observations\") +\n",
    "    ggtitle(\"Age Dist.\") +\n",
    "    theme(text=element_text(size=20))\n",
    "\n",
    "sex_distribution <- heart_train |>\n",
    "    ggplot() +\n",
    "    geom_histogram(bins = 5, aes(x=sex)) +\n",
    "    labs(x=\"Sex\",y = \"Number of Observations\") +\n",
    "    ggtitle(\"Sex Dist.\") +\n",
    "    theme(text=element_text(size=20))\n",
    "\n",
    "trestbps_distribution <- heart_train |>\n",
    "    ggplot() +\n",
    "    geom_histogram(bins = 5,aes(x=trestbps)) +\n",
    "    labs(x=\"Resting Blood Pressure (mm Hg)\",y = \"Number of Observations\") + \n",
    "    ggtitle(\"Resting Blood Pressure Dist.\") +\n",
    "    theme(text=element_text(size=17.5))\n",
    "\n",
    "chol_distribution <- heart_train |>\n",
    "    ggplot() +\n",
    "    geom_histogram(bins = 5,aes(x=chol)) +\n",
    "    labs(x=\"Cholesterol (mg/dl)\",y = \"Number of Observations\") +\n",
    "    ggtitle(\"Cholesterol Dist.\")+\n",
    "    theme(text=element_text(size=20))\n",
    "\n",
    "fbs_distribution <- heart_train |>\n",
    "    ggplot() +\n",
    "    geom_histogram(bins = 5 ,aes(x=fbs)) +\n",
    "    labs(x=\"Fasting Blood Sugar\",y = \"Number of Observations\") +\n",
    "    ggtitle(\"FBS Dist.\") +\n",
    "    theme(text=element_text(size=20))\n",
    "\n",
    "oldpeak_distribution <- heart_train |>\n",
    "    ggplot() +\n",
    "    geom_histogram(bins = 6,aes(x=oldpeak)) +\n",
    "    labs(x=\"ST Depression Height\",y = \"Number of Observations\") +\n",
    "    ggtitle(\"ST depression Dist.\") +\n",
    "    theme(text=element_text(size=20))\n",
    "\n",
    "#arrange all graphs to print together\n",
    "grid.arrange(age_distribution,sex_distribution,trestbps_distribution, chol_distribution,\n",
    "             fbs_distribution, oldpeak_distribution, ncol =3)"
   ]
  },
  {
   "cell_type": "markdown",
   "id": "d1c05449-f6ef-4b56-b668-01b57d80136f",
   "metadata": {},
   "source": [
    "Part 2: Running the Analysis\n",
    "=====\n",
    "Analysis with just Census Data\n",
    "----"
   ]
  },
  {
   "cell_type": "code",
   "execution_count": null,
   "id": "d3aa13d2-cae2-43c7-b4ad-def5f1af85b0",
   "metadata": {},
   "outputs": [],
   "source": [
    "#Analysis with just Census Data\n",
    "#Analysis with all Paremeters\n",
    "set.seed(4200)\n",
    "options(repr.plot.height = 8, repr.plot.width = 9)\n",
    "#select relevant parameters\n",
    "heart_train_census <- heart_train |>\n",
    "    select(\"age\", \"sex\", \"num\")\n",
    "heart_test_census <- heart_test |>\n",
    "    select(\"age\", \"sex\", \"num\")\n",
    "\n",
    "#make recipe with tune() function\n",
    "heart_recipe_census <- recipe(num ~ ., data = heart_train_census) |>\n",
    "    step_scale(all_predictors()) |>\n",
    "    step_center(all_predictors())\n",
    "\n",
    "#make a vfold\n",
    "heart_vfold_census <- vfold_cv(heart_train_census, v =5, strata = num)\n",
    "\n",
    "#make a tuning spec \n",
    "heart_spec_tune_census <- nearest_neighbor(weight_func = \"rectangular\", \n",
    "                                   neighbors = tune()) |>\n",
    "    set_engine(\"kknn\") |>\n",
    "    set_mode(\"classification\")\n",
    "\n",
    "# make tibble of K values to try \n",
    "k_vals <- tibble(neighbors = seq(from = 1, to = 10, by = 1))\n",
    "\n",
    "#collect metrics \n",
    "heart_workflow_census <- workflow() |>\n",
    "       add_recipe(heart_recipe_census) |>\n",
    "       add_model(heart_spec_tune_census)|>\n",
    "       tune_grid(resamples = heart_vfold_census, grid = k_vals) \n",
    "\n",
    "accuracies_census <- heart_workflow_census |>\n",
    "       collect_metrics() |> #sum of the SD and the mean \n",
    "       filter(.metric == \"accuracy\")\n",
    "\n",
    "#plot the accuracies\n",
    "accuracy_vs_k_census <- ggplot(accuracies_census, aes(x = neighbors, y= mean)) +\n",
    "       geom_point() +\n",
    "       geom_line() +\n",
    "      labs(x= \"Neighbors\", y = \"Accuracy Estimation\")\n",
    "accuracy_vs_k_census\n",
    "\n",
    "#at this point we evaluate the accuracy of the model below to choose the best K"
   ]
  },
  {
   "cell_type": "code",
   "execution_count": null,
   "id": "7f516090-4649-4d89-8c73-19d035f5f310",
   "metadata": {},
   "outputs": [],
   "source": [
    "#We now create a model using the best K chosen from above\n",
    "set.seed(4200)\n",
    "#make a new spec \n",
    "heart_spec_census <- nearest_neighbor(weight_func = \"rectangular\", neighbors = 9) |>\n",
    "    set_engine(\"kknn\") |>\n",
    "    set_mode(\"classification\")\n",
    "\n",
    "#make a new workflow (retrain mdoel) \n",
    "heart_fit_census <- workflow() |>\n",
    "    add_recipe(heart_recipe_census) |>\n",
    "    add_model(heart_spec_census) |>\n",
    "    fit(data = heart_train_census)\n",
    "\n",
    "heart_predicted_census <- predict(heart_fit_census, heart_test_census) |>\n",
    "    bind_cols(heart_test_census)\n",
    "\n",
    "acc_census <- heart_predicted_census |>\n",
    "    metrics(truth = num, estimate = .pred_class) |>\n",
    "    filter(.metric == \"accuracy\") |>\n",
    "    select(.estimate) |>\n",
    "    pull()\n",
    "tibble(acc_census)\n",
    "\n",
    "confusion_census <- heart_predicted_census|>\n",
    "             conf_mat(truth = num, estimate = .pred_class)\n",
    "confusion_census\n",
    "\n",
    "false_positive_census <- 12/27\n",
    "\n",
    "false_negative_census <- 15/27\n",
    "\n",
    "tibble(acc_census, false_positive_census, false_negative_census)"
   ]
  },
  {
   "cell_type": "markdown",
   "id": "11ef899e-7a8c-49b5-b035-a2b28062747d",
   "metadata": {},
   "source": [
    "Analysis with just Medical Data\n",
    "-----"
   ]
  },
  {
   "cell_type": "code",
   "execution_count": null,
   "id": "107f0f6c-2422-4165-a369-622e2663c551",
   "metadata": {},
   "outputs": [],
   "source": [
    "#Analysis with just Medical Data\n",
    "#Analysis with all Paremeters\n",
    "set.seed(4200)\n",
    "options(repr.plot.height = 8, repr.plot.width = 9)\n",
    "#select relevant parameters\n",
    "heart_train_med <- heart_train |>\n",
    "    select(\"trestbps\", \"chol\", \"fbs\", \"oldpeak\", \"num\")\n",
    "heart_test_med <- heart_test |>\n",
    "    select(\"trestbps\", \"chol\", \"fbs\", \"oldpeak\", \"num\")\n",
    "\n",
    "#make recipe with tune() function\n",
    "heart_recipe_med <- recipe(num ~ ., data = heart_train_med) |>\n",
    "    step_scale(all_predictors()) |>\n",
    "    step_center(all_predictors())\n",
    "\n",
    "#make a vfold\n",
    "heart_vfold_med <- vfold_cv(heart_train_med, v =5, strata = num)\n",
    "\n",
    "#make a tuning spec \n",
    "heart_spec_tune_med <- nearest_neighbor(weight_func = \"rectangular\", \n",
    "                                   neighbors = tune()) |>\n",
    "    set_engine(\"kknn\") |>\n",
    "    set_mode(\"classification\")\n",
    "\n",
    "# make tibble of K values to try \n",
    "k_vals <- tibble(neighbors = seq(from = 1, to = 10, by = 1))\n",
    "\n",
    "#collect metrics \n",
    "heart_workflow_med <- workflow() |>\n",
    "       add_recipe(heart_recipe_med) |>\n",
    "       add_model(heart_spec_tune_med)|>\n",
    "       tune_grid(resamples = heart_vfold_med, grid = k_vals) \n",
    "\n",
    "accuracies_med <- heart_workflow_med |>\n",
    "       collect_metrics() |> #sum of the SD and the mean \n",
    "       filter(.metric == \"accuracy\")\n",
    "\n",
    "#plot the accuracies\n",
    "accuracy_vs_k_med <- ggplot(accuracies_med, aes(x = neighbors, y= mean)) +\n",
    "       geom_point() +\n",
    "       geom_line() +\n",
    "      labs(x= \"Neighbors\", y = \"Accuracy Estimation\")\n",
    "accuracy_vs_k_med\n",
    "\n",
    "#at this point we evaluate the accuracy of the model below to choose the best K"
   ]
  },
  {
   "cell_type": "code",
   "execution_count": null,
   "id": "a7c85a96-c24a-413f-bb0d-2b2b7318a0b7",
   "metadata": {},
   "outputs": [],
   "source": [
    "#We now create a model using the best K chosen from above\n",
    "set.seed(4200)\n",
    "#make a new spec \n",
    "heart_spec_med <- nearest_neighbor(weight_func = \"rectangular\", neighbors = 2) |>\n",
    "    set_engine(\"kknn\") |>\n",
    "    set_mode(\"classification\")\n",
    "\n",
    "#make a new workflow (retrain mdoel) \n",
    "heart_fit_med <- workflow() |>\n",
    "    add_recipe(heart_recipe_med) |>\n",
    "    add_model(heart_spec_med) |>\n",
    "    fit(data = heart_train_med)\n",
    "\n",
    "heart_predicted_med <- predict(heart_fit_med, heart_test_med) |>\n",
    "    bind_cols(heart_test_med)\n",
    "\n",
    "confusion_med <- heart_predicted_med|>\n",
    "             conf_mat(truth = num, estimate = .pred_class)\n",
    "confusion_med\n",
    "\n",
    "acc_med <- heart_predicted_med |>\n",
    "    metrics(truth = num, estimate = .pred_class) |>\n",
    "    filter(.metric == \"accuracy\") |>\n",
    "    select(.estimate) |>\n",
    "    pull()\n",
    "\n",
    "false_positive_med <- 18/36\n",
    "\n",
    "false_negative_med <- 18/36\n",
    "\n",
    "tibble(acc_med, false_positive_med, false_negative_med)"
   ]
  },
  {
   "cell_type": "markdown",
   "id": "0d1e45b5-e68e-48d7-affa-7f9493299a70",
   "metadata": {},
   "source": [
    "Analysis with All Parameters\n",
    "----"
   ]
  },
  {
   "cell_type": "code",
   "execution_count": null,
   "id": "a97811f0-015e-4c8e-8850-f5a726720617",
   "metadata": {},
   "outputs": [],
   "source": [
    "#Analysis with all Paremeters\n",
    "set.seed(4200)\n",
    "options(repr.plot.height = 8, repr.plot.width = 9)\n",
    "\n",
    "#select relevant parameters\n",
    "heart_train_all <- heart_train |>\n",
    "    select(\"age\", \"sex\", \"trestbps\", \"chol\", \"fbs\", \"oldpeak\", \"num\")\n",
    "heart_test_all <- heart_test |>\n",
    "    select(\"age\", \"sex\", \"trestbps\", \"chol\", \"fbs\", \"oldpeak\", \"num\")\n",
    "\n",
    "#make recipe with tune() function\n",
    "heart_recipe_all <- recipe(num ~ ., data = heart_train_all) |>\n",
    "    step_scale(all_predictors()) |>\n",
    "    step_center(all_predictors())\n",
    "\n",
    "#make a vfold\n",
    "heart_vfold_all <- vfold_cv(heart_train_all, v =5, strata = num)\n",
    "\n",
    "#make a tuning spec \n",
    "heart_spec_tune_all <- nearest_neighbor(weight_func = \"rectangular\", \n",
    "                                   neighbors = tune()) |>\n",
    "    set_engine(\"kknn\") |>\n",
    "    set_mode(\"classification\")\n",
    "\n",
    "# make tibble of K values to try \n",
    "k_vals <- tibble(neighbors = seq(from = 1, to = 10, by = 1))\n",
    "\n",
    "#collect metrics \n",
    "heart_workflow_all <- workflow() |>\n",
    "       add_recipe(heart_recipe_all) |>\n",
    "       add_model(heart_spec_tune_all)|>\n",
    "       tune_grid(resamples = heart_vfold_all, grid = k_vals) \n",
    "\n",
    "accuracies_all <- heart_workflow_all |>\n",
    "       collect_metrics() |> #sum of the SD and the mean \n",
    "       filter(.metric == \"accuracy\")\n",
    "\n",
    "#plot the accuracies\n",
    "accuracy_vs_k_all <- ggplot(accuracies_all, aes(x = neighbors, y= mean)) +\n",
    "       geom_point() +\n",
    "       geom_line() +\n",
    "      labs(x= \"Neighbors\", y = \"Accuracy Estimation\")\n",
    "accuracy_vs_k_all\n",
    "\n",
    "#at this point we evaluate the accuracy of the model below to choose the best K"
   ]
  },
  {
   "cell_type": "code",
   "execution_count": null,
   "id": "db4c2519-16de-4c8d-a0f5-5ecf7ad42c97",
   "metadata": {},
   "outputs": [],
   "source": [
    "#We now create a model using the best K chosen from above\n",
    "set.seed(4200)\n",
    "#make a new spec \n",
    "heart_spec_all <- nearest_neighbor(weight_func = \"rectangular\", neighbors = 2) |>\n",
    "    set_engine(\"kknn\") |>\n",
    "    set_mode(\"classification\")\n",
    "\n",
    "#make a new workflow (retrain mdoel) \n",
    "heart_fit_all <- workflow() |>\n",
    "    add_recipe(heart_recipe_all) |>\n",
    "    add_model(heart_spec_all) |>\n",
    "    fit(data = heart_train_all)\n",
    "\n",
    "heart_predicted_all <- predict(heart_fit_all, heart_test_all) |>\n",
    "    bind_cols(heart_test_all)\n",
    "\n",
    "acc_all <- heart_predicted_all |>\n",
    "    metrics(truth = num, estimate = .pred_class) |>\n",
    "    filter(.metric == \"accuracy\") |>\n",
    "    select(.estimate) |>\n",
    "    pull()\n",
    "\n",
    "confusion_all <- heart_predicted_all|>\n",
    "             conf_mat(truth = num, estimate = .pred_class)\n",
    "confusion_all\n",
    "\n",
    "false_positive_all <- 9/24\n",
    "\n",
    "false_negative_all <- 15/24\n",
    "\n",
    "tibble(acc_all, false_positive_all, false_negative_all)"
   ]
  },
  {
   "cell_type": "markdown",
   "id": "2b565c05-5027-40bb-aab6-4666e0b178d6",
   "metadata": {},
   "source": [
    "Visualizing the Models\n",
    "---\n",
    "Step 1: Combine all of the accuracy data into one dataframe\n",
    "\n",
    "Step 2: Plot the accuracies of the different models as bar graphs"
   ]
  },
  {
   "cell_type": "code",
   "execution_count": 75,
   "id": "2bb7d36d-8d34-4c2a-889b-67db1dbd7e67",
   "metadata": {},
   "outputs": [
    {
     "name": "stderr",
     "output_type": "stream",
     "text": [
      "\u001b[1m\u001b[22mNew names:\n",
      "\u001b[36m•\u001b[39m `` -> `...1`\n",
      "\u001b[36m•\u001b[39m `` -> `...2`\n",
      "\u001b[36m•\u001b[39m `` -> `...3`\n"
     ]
    },
    {
     "data": {
      "text/html": [
       "<table class=\"dataframe\">\n",
       "<caption>A tibble: 3 × 2</caption>\n",
       "<thead>\n",
       "\t<tr><th scope=col>data_set</th><th scope=col>accuracy</th></tr>\n",
       "\t<tr><th scope=col>&lt;chr&gt;</th><th scope=col>&lt;dbl&gt;</th></tr>\n",
       "</thead>\n",
       "<tbody>\n",
       "\t<tr><td>Census_Accuracy </td><td>0.6951220</td></tr>\n",
       "\t<tr><td>Medical_Accuracy</td><td>0.7317073</td></tr>\n",
       "\t<tr><td>All_Accuracy    </td><td>0.7682927</td></tr>\n",
       "</tbody>\n",
       "</table>\n"
      ],
      "text/latex": [
       "A tibble: 3 × 2\n",
       "\\begin{tabular}{ll}\n",
       " data\\_set & accuracy\\\\\n",
       " <chr> & <dbl>\\\\\n",
       "\\hline\n",
       "\t Census\\_Accuracy  & 0.6951220\\\\\n",
       "\t Medical\\_Accuracy & 0.7317073\\\\\n",
       "\t All\\_Accuracy     & 0.7682927\\\\\n",
       "\\end{tabular}\n"
      ],
      "text/markdown": [
       "\n",
       "A tibble: 3 × 2\n",
       "\n",
       "| data_set &lt;chr&gt; | accuracy &lt;dbl&gt; |\n",
       "|---|---|\n",
       "| Census_Accuracy  | 0.6951220 |\n",
       "| Medical_Accuracy | 0.7317073 |\n",
       "| All_Accuracy     | 0.7682927 |\n",
       "\n"
      ],
      "text/plain": [
       "  data_set         accuracy \n",
       "1 Census_Accuracy  0.6951220\n",
       "2 Medical_Accuracy 0.7317073\n",
       "3 All_Accuracy     0.7682927"
      ]
     },
     "metadata": {},
     "output_type": "display_data"
    }
   ],
   "source": [
    "#bind all of the accuracies together \n",
    "accuracy_data <- bind_cols(acc_census,acc_med, acc_all) \n",
    "names <- c(\"Census_Accuracy\",\"Medical_Accuracy\", \"All_Accuracy\")\n",
    "colnames(accuracy_data) <- names\n",
    "\n",
    "#tidy the accuracy data (make in tidy format) \n",
    "tidy_accuracy_data <- pivot_longer(accuracy_data, \n",
    "            cols = Census_Accuracy:All_Accuracy, \n",
    "            names_to = \"data_set\", \n",
    "            values_to = \"accuracy\")\n",
    "tidy_accuracy_data                     "
   ]
  },
  {
   "cell_type": "code",
   "execution_count": 78,
   "id": "0adbfae2-0a47-4a73-8779-450ecb8023e0",
   "metadata": {},
   "outputs": [
    {
     "data": {
      "image/png": "[encoded data removed]",
      "text/plain": [
       "plot without title"
      ]
     },
     "metadata": {
      "image/png": {
       "height": 480,
       "width": 540
      }
     },
     "output_type": "display_data"
    }
   ],
   "source": [
    "#plot the accuracies as a bar graph\n",
    "Accuracy_plot <- tidy_accuracy_data |>\n",
    "    ggplot(aes(x = data_set, y=accuracy, fill = data_set)) +\n",
    "    geom_bar(stat = \"identity\") +\n",
    "    labs(x= \"Model\", y=\"Accuracy\", fill = \"Predictors\") +\n",
    "    ylim(0:1) +\n",
    "    ggtitle(\"Accuracies of Each Predictor Type\")\n",
    "Accuracy_plot"
   ]
  },
  {
   "cell_type": "code",
   "execution_count": 80,
   "id": "141becea-a625-4e76-8189-1dcb2d85b52f",
   "metadata": {},
   "outputs": [
    {
     "data": {
      "image/png": "[encoded data removed]",
      "text/plain": [
       "plot without title"
      ]
     },
     "metadata": {
      "image/png": {
       "height": 480,
       "width": 540
      }
     },
     "output_type": "display_data"
    }
   ],
   "source": [
    "error_df <- data.frame(\n",
    "  model = c(\"All\", \"Census\", \"Med\"),\n",
    "  accuracy = c(acc_all,acc_census, acc_med),\n",
    "  false_positive = c(false_positive_all, false_positive_census, false_positive_med),\n",
    "  false_negative = c(false_negative_all, false_negative_census, false_negative_med))\n",
    "\n",
    "error_long <- tidyr::gather(df, key = \"metric\", value = \"value\", -model)\n",
    "\n",
    "# Create the grouped bar chart\n",
    "ggplot(error_long, aes(x = model, y = value, fill = metric)) +\n",
    "  geom_bar(stat = \"identity\", position = \"dodge\") +\n",
    "  labs(x = \"Model\", y = \"Value\", fill = \"Predictions\")+\n",
    "  ggtitle(\"Overall predictions of accurcy, false negatives and false positives\")"
   ]
  },
  {
   "cell_type": "code",
   "execution_count": null,
   "id": "cc503beb-88eb-4aac-8dd1-fea9812f0b11",
   "metadata": {},
   "outputs": [],
   "source": []
  }
 ],
 "metadata": {
  "kernelspec": {
   "display_name": "R",
   "language": "R",
   "name": "ir"
  },
  "language_info": {
   "codemirror_mode": "r",
   "file_extension": ".r",
   "mimetype": "text/x-r-source",
   "name": "R",
   "pygments_lexer": "r",
   "version": "4.1.3"
  }
 },
 "nbformat": 4,
 "nbformat_minor": 5
}
