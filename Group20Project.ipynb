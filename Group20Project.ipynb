{
 "cells": [
  {
   "cell_type": "markdown",
   "id": "608ca7e5-636d-4227-a677-eaa63495ece2",
   "metadata": {
    "tags": []
   },
   "source": [
    "Heart Disease in Cleveland\n",
    "=====\n",
    "**An analysis by Group 20 DSCI 100 007**\n",
    "\n",
    "Phoebe McNair-Luxon, Alexandre Beauchemin, Kumaravendhan Ravichandran, Evi Dorsch\n",
    "\n",
    "Data set source: https://archive.ics.uci.edu/ml/datasets/Heart+Disease"
   ]
  },
  {
   "cell_type": "code",
   "execution_count": null,
   "id": "d254d1bb-2784-4b7a-958e-df321cc03af5",
   "metadata": {},
   "outputs": [],
   "source": []
  }
 ],
 "metadata": {
  "kernelspec": {
   "display_name": "R",
   "language": "R",
   "name": "ir"
  },
  "language_info": {
   "codemirror_mode": "r",
   "file_extension": ".r",
   "mimetype": "text/x-r-source",
   "name": "R",
   "pygments_lexer": "r",
   "version": "4.1.3"
  }
 },
 "nbformat": 4,
 "nbformat_minor": 5
}
