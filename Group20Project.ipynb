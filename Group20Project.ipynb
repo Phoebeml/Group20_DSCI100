{
 "cells": [
  {
   "cell_type": "markdown",
   "id": "608ca7e5-636d-4227-a677-eaa63495ece2",
   "metadata": {
    "tags": []
   },
   "source": [
    "Heart Disease in Cleveland\n",
    "=====\n",
    "**An analysis by Group 20 DSCI 100 007**\n",
    "\n",
    "Phoebe McNair-Luxon, Alexandre Beauchemin, Kumaravendhan Ravichandran, Evi Dorsch\n",
    "\n",
    "Data set source: https://archive.ics.uci.edu/ml/datasets/Heart+Disease"
   ]
  },
  {
   "cell_type": "code",
   "execution_count": 1,
   "id": "d254d1bb-2784-4b7a-958e-df321cc03af5",
   "metadata": {},
   "outputs": [
    {
     "name": "stderr",
     "output_type": "stream",
     "text": [
      "── \u001b[1mAttaching packages\u001b[22m ─────────────────────────────────────── tidyverse 1.3.1 ──\n",
      "\n",
      "\u001b[32m✔\u001b[39m \u001b[34mggplot2\u001b[39m 3.3.6     \u001b[32m✔\u001b[39m \u001b[34mpurrr  \u001b[39m 0.3.4\n",
      "\u001b[32m✔\u001b[39m \u001b[34mtibble \u001b[39m 3.1.7     \u001b[32m✔\u001b[39m \u001b[34mdplyr  \u001b[39m 1.0.9\n",
      "\u001b[32m✔\u001b[39m \u001b[34mtidyr  \u001b[39m 1.2.0     \u001b[32m✔\u001b[39m \u001b[34mstringr\u001b[39m 1.4.0\n",
      "\u001b[32m✔\u001b[39m \u001b[34mreadr  \u001b[39m 2.1.2     \u001b[32m✔\u001b[39m \u001b[34mforcats\u001b[39m 0.5.1\n",
      "\n",
      "── \u001b[1mConflicts\u001b[22m ────────────────────────────────────────── tidyverse_conflicts() ──\n",
      "\u001b[31m✖\u001b[39m \u001b[34mdplyr\u001b[39m::\u001b[32mfilter()\u001b[39m masks \u001b[34mstats\u001b[39m::filter()\n",
      "\u001b[31m✖\u001b[39m \u001b[34mdplyr\u001b[39m::\u001b[32mlag()\u001b[39m    masks \u001b[34mstats\u001b[39m::lag()\n",
      "\n",
      "── \u001b[1mAttaching packages\u001b[22m ────────────────────────────────────── tidymodels 1.0.0 ──\n",
      "\n",
      "\u001b[32m✔\u001b[39m \u001b[34mbroom       \u001b[39m 1.0.0     \u001b[32m✔\u001b[39m \u001b[34mrsample     \u001b[39m 1.0.0\n",
      "\u001b[32m✔\u001b[39m \u001b[34mdials       \u001b[39m 1.0.0     \u001b[32m✔\u001b[39m \u001b[34mtune        \u001b[39m 1.0.0\n",
      "\u001b[32m✔\u001b[39m \u001b[34minfer       \u001b[39m 1.0.2     \u001b[32m✔\u001b[39m \u001b[34mworkflows   \u001b[39m 1.0.0\n",
      "\u001b[32m✔\u001b[39m \u001b[34mmodeldata   \u001b[39m 1.0.0     \u001b[32m✔\u001b[39m \u001b[34mworkflowsets\u001b[39m 1.0.0\n",
      "\u001b[32m✔\u001b[39m \u001b[34mparsnip     \u001b[39m 1.0.0     \u001b[32m✔\u001b[39m \u001b[34myardstick   \u001b[39m 1.0.0\n",
      "\u001b[32m✔\u001b[39m \u001b[34mrecipes     \u001b[39m 1.0.1     \n",
      "\n",
      "── \u001b[1mConflicts\u001b[22m ───────────────────────────────────────── tidymodels_conflicts() ──\n",
      "\u001b[31m✖\u001b[39m \u001b[34mscales\u001b[39m::\u001b[32mdiscard()\u001b[39m masks \u001b[34mpurrr\u001b[39m::discard()\n",
      "\u001b[31m✖\u001b[39m \u001b[34mdplyr\u001b[39m::\u001b[32mfilter()\u001b[39m   masks \u001b[34mstats\u001b[39m::filter()\n",
      "\u001b[31m✖\u001b[39m \u001b[34mrecipes\u001b[39m::\u001b[32mfixed()\u001b[39m  masks \u001b[34mstringr\u001b[39m::fixed()\n",
      "\u001b[31m✖\u001b[39m \u001b[34mdplyr\u001b[39m::\u001b[32mlag()\u001b[39m      masks \u001b[34mstats\u001b[39m::lag()\n",
      "\u001b[31m✖\u001b[39m \u001b[34myardstick\u001b[39m::\u001b[32mspec()\u001b[39m masks \u001b[34mreadr\u001b[39m::spec()\n",
      "\u001b[31m✖\u001b[39m \u001b[34mrecipes\u001b[39m::\u001b[32mstep()\u001b[39m   masks \u001b[34mstats\u001b[39m::step()\n",
      "\u001b[34m•\u001b[39m Use \u001b[32mtidymodels_prefer()\u001b[39m to resolve common conflicts.\n",
      "\n",
      "\n",
      "Attaching package: ‘gridExtra’\n",
      "\n",
      "\n",
      "The following object is masked from ‘package:dplyr’:\n",
      "\n",
      "    combine\n",
      "\n",
      "\n"
     ]
    }
   ],
   "source": [
    "library(tidyverse)\n",
    "library(tidymodels)\n",
    "library(repr)\n",
    "library(gridExtra)\n",
    "library(readxl)\n",
    "set.seed(4200)"
   ]
  },
  {
   "cell_type": "markdown",
   "id": "3e988a7e-fd3e-4cf8-8863-a42dc880f0fe",
   "metadata": {},
   "source": [
    "Part 1: Preliminary Data Analysis\n",
    "=====\n",
    "Cell 1: Summary of the data set\n",
    "\n",
    "Cell 2: Visuization of the data set"
   ]
  },
  {
   "cell_type": "code",
   "execution_count": 2,
   "id": "f1392f86-5af2-4701-b1a1-19d5aaa25c5b",
   "metadata": {},
   "outputs": [
    {
     "data": {
      "text/html": [
       "<table class=\"dataframe\">\n",
       "<caption>A data.frame: 6 × 14</caption>\n",
       "<thead>\n",
       "\t<tr><th></th><th scope=col>age</th><th scope=col>sex</th><th scope=col>cp</th><th scope=col>trestbps</th><th scope=col>chol</th><th scope=col>fbs</th><th scope=col>restecg</th><th scope=col>thalach</th><th scope=col>exang</th><th scope=col>oldpeak</th><th scope=col>slope</th><th scope=col>ca</th><th scope=col>thal</th><th scope=col>num</th></tr>\n",
       "\t<tr><th></th><th scope=col>&lt;dbl&gt;</th><th scope=col>&lt;dbl&gt;</th><th scope=col>&lt;dbl&gt;</th><th scope=col>&lt;dbl&gt;</th><th scope=col>&lt;dbl&gt;</th><th scope=col>&lt;dbl&gt;</th><th scope=col>&lt;dbl&gt;</th><th scope=col>&lt;dbl&gt;</th><th scope=col>&lt;dbl&gt;</th><th scope=col>&lt;dbl&gt;</th><th scope=col>&lt;dbl&gt;</th><th scope=col>&lt;chr&gt;</th><th scope=col>&lt;chr&gt;</th><th scope=col>&lt;int&gt;</th></tr>\n",
       "</thead>\n",
       "<tbody>\n",
       "\t<tr><th scope=row>1</th><td>63</td><td>1</td><td>1</td><td>145</td><td>233</td><td>1</td><td>2</td><td>150</td><td>0</td><td>2.3</td><td>3</td><td>0.0</td><td>6.0</td><td>0</td></tr>\n",
       "\t<tr><th scope=row>2</th><td>67</td><td>1</td><td>4</td><td>160</td><td>286</td><td>0</td><td>2</td><td>108</td><td>1</td><td>1.5</td><td>2</td><td>3.0</td><td>3.0</td><td>2</td></tr>\n",
       "\t<tr><th scope=row>3</th><td>67</td><td>1</td><td>4</td><td>120</td><td>229</td><td>0</td><td>2</td><td>129</td><td>1</td><td>2.6</td><td>2</td><td>2.0</td><td>7.0</td><td>1</td></tr>\n",
       "\t<tr><th scope=row>4</th><td>37</td><td>1</td><td>3</td><td>130</td><td>250</td><td>0</td><td>0</td><td>187</td><td>0</td><td>3.5</td><td>3</td><td>0.0</td><td>3.0</td><td>0</td></tr>\n",
       "\t<tr><th scope=row>5</th><td>41</td><td>0</td><td>2</td><td>130</td><td>204</td><td>0</td><td>2</td><td>172</td><td>0</td><td>1.4</td><td>1</td><td>0.0</td><td>3.0</td><td>0</td></tr>\n",
       "\t<tr><th scope=row>6</th><td>56</td><td>1</td><td>2</td><td>120</td><td>236</td><td>0</td><td>0</td><td>178</td><td>0</td><td>0.8</td><td>1</td><td>0.0</td><td>3.0</td><td>0</td></tr>\n",
       "</tbody>\n",
       "</table>\n"
      ],
      "text/latex": [
       "A data.frame: 6 × 14\n",
       "\\begin{tabular}{r|llllllllllllll}\n",
       "  & age & sex & cp & trestbps & chol & fbs & restecg & thalach & exang & oldpeak & slope & ca & thal & num\\\\\n",
       "  & <dbl> & <dbl> & <dbl> & <dbl> & <dbl> & <dbl> & <dbl> & <dbl> & <dbl> & <dbl> & <dbl> & <chr> & <chr> & <int>\\\\\n",
       "\\hline\n",
       "\t1 & 63 & 1 & 1 & 145 & 233 & 1 & 2 & 150 & 0 & 2.3 & 3 & 0.0 & 6.0 & 0\\\\\n",
       "\t2 & 67 & 1 & 4 & 160 & 286 & 0 & 2 & 108 & 1 & 1.5 & 2 & 3.0 & 3.0 & 2\\\\\n",
       "\t3 & 67 & 1 & 4 & 120 & 229 & 0 & 2 & 129 & 1 & 2.6 & 2 & 2.0 & 7.0 & 1\\\\\n",
       "\t4 & 37 & 1 & 3 & 130 & 250 & 0 & 0 & 187 & 0 & 3.5 & 3 & 0.0 & 3.0 & 0\\\\\n",
       "\t5 & 41 & 0 & 2 & 130 & 204 & 0 & 2 & 172 & 0 & 1.4 & 1 & 0.0 & 3.0 & 0\\\\\n",
       "\t6 & 56 & 1 & 2 & 120 & 236 & 0 & 0 & 178 & 0 & 0.8 & 1 & 0.0 & 3.0 & 0\\\\\n",
       "\\end{tabular}\n"
      ],
      "text/markdown": [
       "\n",
       "A data.frame: 6 × 14\n",
       "\n",
       "| <!--/--> | age &lt;dbl&gt; | sex &lt;dbl&gt; | cp &lt;dbl&gt; | trestbps &lt;dbl&gt; | chol &lt;dbl&gt; | fbs &lt;dbl&gt; | restecg &lt;dbl&gt; | thalach &lt;dbl&gt; | exang &lt;dbl&gt; | oldpeak &lt;dbl&gt; | slope &lt;dbl&gt; | ca &lt;chr&gt; | thal &lt;chr&gt; | num &lt;int&gt; |\n",
       "|---|---|---|---|---|---|---|---|---|---|---|---|---|---|---|\n",
       "| 1 | 63 | 1 | 1 | 145 | 233 | 1 | 2 | 150 | 0 | 2.3 | 3 | 0.0 | 6.0 | 0 |\n",
       "| 2 | 67 | 1 | 4 | 160 | 286 | 0 | 2 | 108 | 1 | 1.5 | 2 | 3.0 | 3.0 | 2 |\n",
       "| 3 | 67 | 1 | 4 | 120 | 229 | 0 | 2 | 129 | 1 | 2.6 | 2 | 2.0 | 7.0 | 1 |\n",
       "| 4 | 37 | 1 | 3 | 130 | 250 | 0 | 0 | 187 | 0 | 3.5 | 3 | 0.0 | 3.0 | 0 |\n",
       "| 5 | 41 | 0 | 2 | 130 | 204 | 0 | 2 | 172 | 0 | 1.4 | 1 | 0.0 | 3.0 | 0 |\n",
       "| 6 | 56 | 1 | 2 | 120 | 236 | 0 | 0 | 178 | 0 | 0.8 | 1 | 0.0 | 3.0 | 0 |\n",
       "\n"
      ],
      "text/plain": [
       "  age sex cp trestbps chol fbs restecg thalach exang oldpeak slope ca  thal num\n",
       "1 63  1   1  145      233  1   2       150     0     2.3     3     0.0 6.0  0  \n",
       "2 67  1   4  160      286  0   2       108     1     1.5     2     3.0 3.0  2  \n",
       "3 67  1   4  120      229  0   2       129     1     2.6     2     2.0 7.0  1  \n",
       "4 37  1   3  130      250  0   0       187     0     3.5     3     0.0 3.0  0  \n",
       "5 41  0   2  130      204  0   2       172     0     1.4     1     0.0 3.0  0  \n",
       "6 56  1   2  120      236  0   0       178     0     0.8     1     0.0 3.0  0  "
      ]
     },
     "metadata": {},
     "output_type": "display_data"
    },
    {
     "name": "stderr",
     "output_type": "stream",
     "text": [
      "\u001b[1m\u001b[22mNew names:\n",
      "\u001b[36m•\u001b[39m `` -> `...1`\n"
     ]
    },
    {
     "data": {
      "text/html": [
       "<table class=\"dataframe\">\n",
       "<caption>A tibble: 2 × 7</caption>\n",
       "<thead>\n",
       "\t<tr><th scope=col>...1</th><th scope=col>age</th><th scope=col>sex</th><th scope=col>trestbps</th><th scope=col>chol</th><th scope=col>fbs</th><th scope=col>oldpeak</th></tr>\n",
       "\t<tr><th scope=col>&lt;chr&gt;</th><th scope=col>&lt;dbl&gt;</th><th scope=col>&lt;dbl&gt;</th><th scope=col>&lt;dbl&gt;</th><th scope=col>&lt;dbl&gt;</th><th scope=col>&lt;dbl&gt;</th><th scope=col>&lt;dbl&gt;</th></tr>\n",
       "</thead>\n",
       "<tbody>\n",
       "\t<tr><td>Mean  </td><td>54.72444</td><td>0.68</td><td>132.3822</td><td>247.6489</td><td>0.1377778</td><td>1.075111</td></tr>\n",
       "\t<tr><td>Median</td><td>56.00000</td><td>1.00</td><td>130.0000</td><td>244.0000</td><td>0.0000000</td><td>0.800000</td></tr>\n",
       "</tbody>\n",
       "</table>\n"
      ],
      "text/latex": [
       "A tibble: 2 × 7\n",
       "\\begin{tabular}{lllllll}\n",
       " ...1 & age & sex & trestbps & chol & fbs & oldpeak\\\\\n",
       " <chr> & <dbl> & <dbl> & <dbl> & <dbl> & <dbl> & <dbl>\\\\\n",
       "\\hline\n",
       "\t Mean   & 54.72444 & 0.68 & 132.3822 & 247.6489 & 0.1377778 & 1.075111\\\\\n",
       "\t Median & 56.00000 & 1.00 & 130.0000 & 244.0000 & 0.0000000 & 0.800000\\\\\n",
       "\\end{tabular}\n"
      ],
      "text/markdown": [
       "\n",
       "A tibble: 2 × 7\n",
       "\n",
       "| ...1 &lt;chr&gt; | age &lt;dbl&gt; | sex &lt;dbl&gt; | trestbps &lt;dbl&gt; | chol &lt;dbl&gt; | fbs &lt;dbl&gt; | oldpeak &lt;dbl&gt; |\n",
       "|---|---|---|---|---|---|---|\n",
       "| Mean   | 54.72444 | 0.68 | 132.3822 | 247.6489 | 0.1377778 | 1.075111 |\n",
       "| Median | 56.00000 | 1.00 | 130.0000 | 244.0000 | 0.0000000 | 0.800000 |\n",
       "\n"
      ],
      "text/plain": [
       "  ...1   age      sex  trestbps chol     fbs       oldpeak \n",
       "1 Mean   54.72444 0.68 132.3822 247.6489 0.1377778 1.075111\n",
       "2 Median 56.00000 1.00 130.0000 244.0000 0.0000000 0.800000"
      ]
     },
     "metadata": {},
     "output_type": "display_data"
    },
    {
     "data": {
      "text/html": [
       "225"
      ],
      "text/latex": [
       "225"
      ],
      "text/markdown": [
       "225"
      ],
      "text/plain": [
       "[1] 225"
      ]
     },
     "metadata": {},
     "output_type": "display_data"
    }
   ],
   "source": [
    "# read in data \n",
    "Cl_heart_data <- read.table(\"https://archive.ics.uci.edu/ml/machine-learning-databases/heart-disease/processed.cleveland.data\", sep = \",\",\n",
    "                 col.names = c(\"age\", \"sex\", \"cp\", \"trestbps\", \"chol\", \"fbs\",  \"restecg\", \"thalach\", \"exang\", \"oldpeak\", \"slope\", \"ca\", \"thal\", \"num\"))\n",
    "head(Cl_heart_data)\n",
    "\n",
    "# convert num from from dbl to factor\n",
    "Cl_heart_data <- Cl_heart_data |> \n",
    "    mutate(num=as_factor(num))\n",
    "\n",
    "# select for columns \n",
    "clean_heart_data <- Cl_heart_data |>\n",
    "    select(\"age\", \"sex\", \"trestbps\", \"chol\", \"fbs\", \"oldpeak\", \"num\")\n",
    "\n",
    "#splitting data into training and testing sets\n",
    "heart_data_split <-  initial_split(clean_heart_data, prop = 0.75, strata = num)\n",
    "heart_train <- training(heart_data_split)\n",
    "heart_test <- testing(heart_data_split)\n",
    "# head(heart_train)\n",
    "# head(heart_test)\n",
    "\n",
    "#create new data frame without num for calculating stats\n",
    "heart_train_1 <- heart_train |>\n",
    "    select(-num)\n",
    "\n",
    "# visualizing the data (only training data)\n",
    "names <- c(\"Mean\", \"Median\")\n",
    "mean <- heart_train_1 |>\n",
    "    map_df(mean, na.rm = TRUE)\n",
    "median <- heart_train_1 |>\n",
    "    map_df(median, na.rm = TRUE)\n",
    "tbl1 <- bind_rows(mean, median)\n",
    "exploratory_analysis <- bind_cols(names, tbl1)\n",
    "exploratory_analysis\n",
    "\n",
    "number_of_rows <- heart_train |>  \n",
    "    nrow()\n",
    "number_of_rows"
   ]
  },
  {
   "cell_type": "code",
   "execution_count": null,
   "id": "d8ee74e1-7ef9-4ec4-8aca-3fe530cddac9",
   "metadata": {},
   "outputs": [],
   "source": []
  },
  {
   "cell_type": "code",
   "execution_count": null,
   "id": "c69e4af5-edec-4dee-b9cf-4fc26ad50c2c",
   "metadata": {},
   "outputs": [],
   "source": [
    "options(repr.plot.height = 15, repr.plot.width = 15)\n",
    "\n",
    "# Visulize data distribution in a graph\n",
    "age_distribution <- heart_train |>\n",
    "    ggplot() +\n",
    "    geom_histogram(bins = 6, aes(x=age)) +\n",
    "    labs(x=\"Age (years)\",y = \"Number of Observations\") +\n",
    "    ggtitle(\"Age Dist.\") +\n",
    "    theme(text=element_text(size=20))\n",
    "\n",
    "sex_distribution <- heart_train |>\n",
    "    ggplot() +\n",
    "    geom_histogram(bins = 5, aes(x=sex)) +\n",
    "    labs(x=\"Sex\",y = \"Number of Observations\") +\n",
    "    ggtitle(\"Sex Dist.\") +\n",
    "    theme(text=element_text(size=20))\n",
    "\n",
    "trestbps_distribution <- heart_train |>\n",
    "    ggplot() +\n",
    "    geom_histogram(bins = 5,aes(x=trestbps)) +\n",
    "    labs(x=\"Resting Blood Pressure (mm Hg)\",y = \"Number of Observations\") + \n",
    "    ggtitle(\"Resting Blood Pressure Dist.\") +\n",
    "    theme(text=element_text(size=17.5))\n",
    "\n",
    "chol_distribution <- heart_train |>\n",
    "    ggplot() +\n",
    "    geom_histogram(bins = 5,aes(x=chol)) +\n",
    "    labs(x=\"Cholesterol (mm/dl)\",y = \"Number of Observations\") +\n",
    "    ggtitle(\"Cholesterol Dist.\")+\n",
    "    theme(text=element_text(size=20))\n",
    "\n",
    "fbs_distribution <- heart_train |>\n",
    "    ggplot() +\n",
    "    geom_histogram(bins = 5 ,aes(x=fbs)) +\n",
    "    labs(x=\"Fasting Blood Sugar\",y = \"Number of Observations\") +\n",
    "    ggtitle(\"FBS Dist.\") +\n",
    "    theme(text=element_text(size=20))\n",
    "\n",
    "oldpeak_distribution <- heart_train |>\n",
    "    ggplot() +\n",
    "    geom_histogram(bins = 6,aes(x=oldpeak)) +\n",
    "    labs(x=\"ST Depression Height\",y = \"Number of Observations\") +\n",
    "    ggtitle(\"ST depression Dist.\") +\n",
    "    theme(text=element_text(size=20))\n",
    "\n",
    "#arrange all graphs to print together\n",
    "grid.arrange(age_distribution,sex_distribution,trestbps_distribution, chol_distribution,\n",
    "             fbs_distribution, oldpeak_distribution, ncol =3)"
   ]
  },
  {
   "cell_type": "markdown",
   "id": "d1c05449-f6ef-4b56-b668-01b57d80136f",
   "metadata": {},
   "source": [
    "Part 2: Running the Analysis\n",
    "====="
   ]
  },
  {
   "cell_type": "code",
   "execution_count": null,
   "id": "d3aa13d2-cae2-43c7-b4ad-def5f1af85b0",
   "metadata": {},
   "outputs": [],
   "source": [
    "#Analysis with just Census Data"
   ]
  },
  {
   "cell_type": "code",
   "execution_count": null,
   "id": "107f0f6c-2422-4165-a369-622e2663c551",
   "metadata": {},
   "outputs": [],
   "source": [
    "#Analysis with just Medical Data"
   ]
  },
  {
   "cell_type": "code",
   "execution_count": null,
   "id": "a97811f0-015e-4c8e-8850-f5a726720617",
   "metadata": {},
   "outputs": [],
   "source": [
    "#Analysis with all Paremeters\n",
    "\n",
    "#select relevant parameters\n",
    "heart_train_all <- heart_train |>\n",
    "    select(\"age\", \"sex\", \"trestbps\", \"chol\", \"fbs\", \"oldpeak\", \"num\")\n",
    "heart_test_all <- heart_test |>\n",
    "    select(\"age\", \"sex\", \"trestbps\", \"chol\", \"fbs\", \"oldpeak\", \"num\")\n",
    "\n",
    "#make recipe with tune() function\n",
    "heart_recipe_all <- recipe(num ~ ., data = heart_train_all) |>\n",
    "    step_scale(all_predictors()) |>\n",
    "    step_center(all_predictors())\n",
    "\n",
    "#make a vfold\n",
    "heart_vfold_all <- vfold_cv(heart_train_all, v =5, strata = num)\n",
    "\n",
    "#make a tuning spec \n",
    "heart_spec_tune_all <- nearest_neighbor(weight_func = \"rectangular\", \n",
    "                                   neighbors = tune()) |>\n",
    "    set_engine(\"kknn\") |>\n",
    "    set_mode(\"classification\")\n",
    "\n",
    "# make tibble of K values to try \n",
    "k_vals <- tibble(neighbors = seq(from = 1, to = 10, by = 1))\n",
    "\n",
    "#collect metrics \n",
    "heart_workflow_all <- workflow() |>\n",
    "       add_recipe(heart_recipe_all) |>\n",
    "       add_model(heart_spec_tune_all)|>\n",
    "       tune_grid(resamples = heart_vfold_all, grid = k_vals) \n",
    "\n",
    "accuracies_all <- heart_workflow_all |>\n",
    "       collect_metrics() |> #sum of the SD and the mean \n",
    "       filter(.metric == \"accuracy\")\n",
    "accuracies_all\n",
    "\n",
    "#plot the accuracies\n",
    "accuracy_vs_k_all <- ggplot(accuracies, aes(x = neighbors, y= mean)) +\n",
    "       geom_point() +\n",
    "       geom_line() +\n",
    "      labs(x= \"Neighbors\", y = \"Accuracy Estimation\")\n",
    "accuracy_vs_k_all\n",
    "\n",
    "#at this point we evaluate the accuracy of the model below to choose the best K"
   ]
  },
  {
   "cell_type": "code",
   "execution_count": null,
   "id": "db4c2519-16de-4c8d-a0f5-5ecf7ad42c97",
   "metadata": {},
   "outputs": [],
   "source": [
    "#We now create a model using the best K chosen from above\n",
    "\n",
    "#make a new spec \n",
    "heart_spec_all <- nearest_neighbor(weight_func = \"rectangular\", neighbors = 2) |>\n",
    "    set_engine(\"kknn\") |>\n",
    "    set_mode(\"classification\")\n",
    "\n",
    "#make a new workflow (retrain mdoel) \n",
    "heart_fit_all <- workflow() |>\n",
    "    add_recipe(heart_recipe_all) |>\n",
    "    add_model(heart_spec_all) |>\n",
    "    fit(data = heart_train_all)\n",
    "\n",
    "heart_predicted_all <- predict(heart_fit_all, heart_test_all) |>\n",
    "    bind_cols(heart_test_all)\n",
    "heart_predicted_all\n",
    "\n",
    "acc <- heart_predicted_all |>\n",
    "    metrics(truth = num, estimate = .pred_class) |>\n",
    "    filter(.metric == \"accuracy\") |>\n",
    "    select(.estimate) |>\n",
    "    pull()\n",
    "acc"
   ]
  },
  {
   "cell_type": "markdown",
   "id": "2b565c05-5027-40bb-aab6-4666e0b178d6",
   "metadata": {},
   "source": [
    "Visualizing the Models\n",
    "---\n",
    "Step 1: Add all of the accuracy data into one dataframe\n",
    "\n",
    "Step 2: Plot the accuracies of the different models as bar graphs"
   ]
  },
  {
   "cell_type": "code",
   "execution_count": null,
   "id": "2bb7d36d-8d34-4c2a-889b-67db1dbd7e67",
   "metadata": {},
   "outputs": [],
   "source": []
  }
 ],
 "metadata": {
  "kernelspec": {
   "display_name": "R",
   "language": "R",
   "name": "ir"
  },
  "language_info": {
   "codemirror_mode": "r",
   "file_extension": ".r",
   "mimetype": "text/x-r-source",
   "name": "R",
   "pygments_lexer": "r",
   "version": "4.1.3"
  }
 },
 "nbformat": 4,
 "nbformat_minor": 5
}
